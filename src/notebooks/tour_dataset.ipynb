{
 "cells": [
  {
   "cell_type": "code",
   "execution_count": 2,
   "metadata": {},
   "outputs": [],
   "source": [
    "import sys\n",
    "sys.path.append('..')"
   ]
  },
  {
   "cell_type": "code",
   "execution_count": 11,
   "metadata": {},
   "outputs": [],
   "source": [
    "import torch\n",
    "from torch.utils.data import DataLoader\n",
    "from utils.utils import Vectorizer, LMDataset"
   ]
  },
  {
   "cell_type": "code",
   "execution_count": 24,
   "metadata": {},
   "outputs": [
    {
     "data": {
      "text/plain": [
       "['<unk>',\n",
       " '<eos>',\n",
       " '<pad>',\n",
       " '<sos>',\n",
       " 'daniel',\n",
       " 'edgar',\n",
       " 'juan',\n",
       " 'nicolás',\n",
       " 'santiago']"
      ]
     },
     "execution_count": 24,
     "metadata": {},
     "output_type": "execute_result"
    }
   ],
   "source": [
    "texto = 'Juan Santiago Nicolás Daniel Edgar'\n",
    "num_embeddings = len(texto.split(' '))\n",
    "num_dim = 3\n",
    "embeddigns = torch.nn.Embedding(\n",
    "\tnum_embeddings=num_embeddings,\n",
    "\tembedding_dim=num_dim\n",
    ")\n",
    "vec = Vectorizer(\n",
    "\ttexto=texto,\n",
    "\tembeddings=embeddigns\n",
    ")\n",
    "vec.tokens"
   ]
  },
  {
   "cell_type": "code",
   "execution_count": 26,
   "metadata": {},
   "outputs": [
    {
     "name": "stdout",
     "output_type": "stream",
     "text": [
      "[['juan'], ['santiago']] ('santiago', 'nicolás')\n",
      "[['nicolás'], ['daniel']] ('daniel', 'edgar')\n"
     ]
    }
   ],
   "source": [
    "window_length = 1\n",
    "batch_size = 2\n",
    "ds = LMDataset(\n",
    "\ttexto=texto, \n",
    "\tvectorizer=vec,\n",
    "\twindow_length=window_length)\n",
    "ds_loader = DataLoader(ds, batch_size=batch_size, shuffle=False)\n",
    "for ds_features, ds_labels in ds_loader:\n",
    "\tds_features = [[x[i] for x in ds_features] for i in range(batch_size)]\n",
    "\tprint(ds_features, ds_labels)"
   ]
  },
  {
   "cell_type": "code",
   "execution_count": null,
   "metadata": {},
   "outputs": [],
   "source": []
  }
 ],
 "metadata": {
  "kernelspec": {
   "display_name": "venv_repositorios",
   "language": "python",
   "name": "python3"
  },
  "language_info": {
   "codemirror_mode": {
    "name": "ipython",
    "version": 3
   },
   "file_extension": ".py",
   "mimetype": "text/x-python",
   "name": "python",
   "nbconvert_exporter": "python",
   "pygments_lexer": "ipython3",
   "version": "3.12.4"
  }
 },
 "nbformat": 4,
 "nbformat_minor": 2
}
